{
 "cells": [
  {
   "cell_type": "markdown",
   "id": "3b5f38ee-c40e-418d-aaf1-405e0b0280f4",
   "metadata": {},
   "source": [
    "# Data Science Tools and Ecosystem "
   ]
  },
  {
   "cell_type": "markdown",
   "id": "d09c8f00-4612-4e9b-b8da-e1f5e9de9c64",
   "metadata": {},
   "source": [
    "In this notebook, Data Science Tools and Ecosystem are summarised."
   ]
  },
  {
   "cell_type": "markdown",
   "id": "b221c771-96fd-42ea-863f-9e6e10f755e6",
   "metadata": {},
   "source": [
    "__Objectives:__\n",
    "+ List popular languages for Data Science\n",
    "+ List commonly used libraries for Data Science\n",
    "+ List Data Science Tools "
   ]
  },
  {
   "cell_type": "markdown",
   "id": "026bf600-0fab-4a0a-a175-9edd6cb80b4c",
   "metadata": {},
   "source": [
    "Some of the popular languages that Data Scientists use are:\n",
    "1. Python\n",
    "2. R\n",
    "3. SQL\n",
    "4. C++\n",
    "5. Scala\n",
    "6. Java"
   ]
  },
  {
   "cell_type": "markdown",
   "id": "cd1cc858-019b-4f29-bc2d-c036c811690c",
   "metadata": {},
   "source": [
    "Some of the commonly used libraries used by Data Scientists include:\n",
    "1. Pandas\n",
    "2. NumPy\n",
    "3. Matplotlib\n",
    "4. Scikit-learn\n",
    "5. Tensorflow\n",
    "6. ggplot2\n"
   ]
  },
  {
   "cell_type": "markdown",
   "id": "d3ebd82a-6cf0-4118-a564-d28db016ef65",
   "metadata": {},
   "source": [
    "| **Data Science Tools** |\n",
    "|:---|\n",
    "| JupyterLab |\n",
    "| Apache Spark |\n",
    "| RStudio |"
   ]
  },
  {
   "cell_type": "markdown",
   "id": "8dd1909e-85f9-46ef-9a77-bc14475e76c2",
   "metadata": {},
   "source": [
    "### Below are a few examples of evaluating arithmetic expressions in Python"
   ]
  },
  {
   "cell_type": "code",
   "execution_count": 27,
   "id": "21cee89f-358d-4a17-952a-ab0c1659e38e",
   "metadata": {},
   "outputs": [
    {
     "data": {
      "text/plain": [
       "17"
      ]
     },
     "execution_count": 27,
     "metadata": {},
     "output_type": "execute_result"
    }
   ],
   "source": [
    "# This is a simple expression to multiply then add integers\n",
    "\n",
    "(3*4)+5"
   ]
  },
  {
   "cell_type": "code",
   "execution_count": 29,
   "id": "cbd6635f-9082-41d4-a24e-675a56b09a1f",
   "metadata": {},
   "outputs": [
    {
     "data": {
      "text/plain": [
       "3.3333333333333335"
      ]
     },
     "execution_count": 29,
     "metadata": {},
     "output_type": "execute_result"
    }
   ],
   "source": [
    "# This will convert 200 minutes to hours by dividing by 60\n",
    "\n",
    "200/60"
   ]
  },
  {
   "cell_type": "markdown",
   "id": "15c70a80-0e1f-45bc-90be-b82d678b62ca",
   "metadata": {},
   "source": [
    "## Author \n",
    "Michael Kudiwa"
   ]
  }
 ],
 "metadata": {
  "kernelspec": {
   "display_name": "Python 3 (ipykernel)",
   "language": "python",
   "name": "python3"
  },
  "language_info": {
   "codemirror_mode": {
    "name": "ipython",
    "version": 3
   },
   "file_extension": ".py",
   "mimetype": "text/x-python",
   "name": "python",
   "nbconvert_exporter": "python",
   "pygments_lexer": "ipython3",
   "version": "3.12.4"
  }
 },
 "nbformat": 4,
 "nbformat_minor": 5
}
